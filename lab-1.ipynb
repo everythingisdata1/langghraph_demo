{
 "cells": [
  {
   "cell_type": "code",
   "execution_count": 53,
   "id": "320f066f-0d1e-4a30-9f7d-d79c7fdc0479",
   "metadata": {},
   "outputs": [],
   "source": [
    "from typing import Annotated\n",
    "from langgraph.graph import StateGraph, START, END\n",
    "from langgraph.graph.message import add_messages\n",
    "# from dotenv import load_dotenv\n",
    "from IPython.display import Image, display\n",
    "import gradio as gr\n",
    "from langgraph.graph import StateGraph\n",
    "from langgraph.graph.message import add_messages\n",
    "# from langchain_openai import ChatOpenAI\n",
    "from pydantic import BaseModel\n",
    "import random\n",
    "from loguru import logger"
   ]
  },
  {
   "cell_type": "code",
   "execution_count": 54,
   "id": "1c65f91a-7024-4008-bc75-34caf6df0c3b",
   "metadata": {},
   "outputs": [],
   "source": [
    "# Some useful constants\n",
    "nouns = [\"Cabbages\", \"Unicorns\", \"Toasters\", \"Penguins\", \"Bananas\", \"Zombies\", \"Rainbows\", \"Eels\", \"Pickles\", \"Muffins\"]\n",
    "adjectives = [\"outrageous\", \"smelly\", \"pedantic\", \"existential\", \"moody\", \"sparkly\", \"untrustworthy\", \"sarcastic\", \"squishy\", \"haunted\"]"
   ]
  },
  {
   "cell_type": "markdown",
   "id": "13f0e245-f84d-441f-bfbd-add383b46872",
   "metadata": {},
   "source": [
    "## 1- Define State "
   ]
  },
  {
   "cell_type": "code",
   "execution_count": 55,
   "id": "4fbfdc75-5768-4206-b6c7-896b1f66e279",
   "metadata": {},
   "outputs": [],
   "source": [
    "class State(BaseModel):        \n",
    "    messages: Annotated[list, add_messages]"
   ]
  },
  {
   "cell_type": "markdown",
   "id": "f3a95fd8-8b21-4c10-bb47-f0a2706032d6",
   "metadata": {},
   "source": [
    "## 2- Build State Graph "
   ]
  },
  {
   "cell_type": "code",
   "execution_count": 56,
   "id": "c89b89e1-a065-447b-a2a2-9f9e0f023eab",
   "metadata": {},
   "outputs": [],
   "source": [
    "graph_builder=StateGraph(State)"
   ]
  },
  {
   "cell_type": "markdown",
   "id": "8fa3b8d0-4452-4370-99db-8def2441f6c4",
   "metadata": {},
   "source": [
    "## 3- Create Node"
   ]
  },
  {
   "cell_type": "code",
   "execution_count": 57,
   "id": "154e2449-64a3-478a-b23e-c6d34ac7ba40",
   "metadata": {},
   "outputs": [],
   "source": [
    "def our_first_node(old_state: State) -> State:\n",
    "\n",
    "    reply = f\"{random.choice(nouns)} are {random.choice(adjectives)}\"\n",
    "    messages = [{\"role\": \"assistant\", \"content\": reply}]\n",
    "\n",
    "    new_state = State(messages=messages)\n",
    "\n",
    "    return new_state"
   ]
  },
  {
   "cell_type": "code",
   "execution_count": 58,
   "id": "6f28d6c5-5bf7-4d54-8d95-5137e1fb687e",
   "metadata": {},
   "outputs": [
    {
     "data": {
      "text/plain": [
       "<langgraph.graph.state.StateGraph at 0x1f52f8db230>"
      ]
     },
     "execution_count": 58,
     "metadata": {},
     "output_type": "execute_result"
    }
   ],
   "source": [
    "graph_builder.add_node(\"first_node\", our_first_node)"
   ]
  },
  {
   "cell_type": "markdown",
   "id": "0a89c661-d38e-4187-9561-8d0c0f90ea45",
   "metadata": {},
   "source": [
    "# 4-Create Edges"
   ]
  },
  {
   "cell_type": "code",
   "execution_count": 59,
   "id": "70003df3-b969-47e3-8cf1-7c29c2d9636d",
   "metadata": {},
   "outputs": [
    {
     "data": {
      "text/plain": [
       "<langgraph.graph.state.StateGraph at 0x1f52f8db230>"
      ]
     },
     "execution_count": 59,
     "metadata": {},
     "output_type": "execute_result"
    }
   ],
   "source": [
    "graph_builder.add_edge(START, \"first_node\")\n",
    "graph_builder.add_edge(\"first_node\", END)"
   ]
  },
  {
   "cell_type": "markdown",
   "id": "66ece633-3722-41ca-bdba-da1df415658f",
   "metadata": {},
   "source": [
    "# 5- Compliling Graph"
   ]
  },
  {
   "cell_type": "code",
   "execution_count": 60,
   "id": "64c23ff0-d2c8-4d87-9961-e8ed56a98fed",
   "metadata": {},
   "outputs": [],
   "source": [
    "graph = graph_builder.compile()"
   ]
  },
  {
   "cell_type": "code",
   "execution_count": 61,
   "id": "77329407-fe11-4a1d-9d4e-aaf46facd033",
   "metadata": {},
   "outputs": [
    {
     "data": {
      "image/png": "[encoded data removed]",
      "text/plain": [
       "<langgraph.graph.state.CompiledStateGraph object at 0x000001F52F8DA650>"
      ]
     },
     "execution_count": 61,
     "metadata": {},
     "output_type": "execute_result"
    }
   ],
   "source": [
    "graph"
   ]
  },
  {
   "cell_type": "markdown",
   "id": "7b9155e1-e84d-4022-b4e3-70c51ac2da4f",
   "metadata": {},
   "source": [
    "# That's it! Showtime...."
   ]
  },
  {
   "cell_type": "code",
   "execution_count": 80,
   "id": "bbd350e3-f621-464f-b958-e8ccb4747341",
   "metadata": {},
   "outputs": [],
   "source": [
    "def chat(user_input, history):\n",
    "    msg={\"role\":\"user\", \"content\":user_input} \n",
    "    messages=[msg]\n",
    "    state=State(messages=messages)\n",
    "    result=graph.invoke(state)\n",
    "    logger.info(result)\n",
    "\n",
    "    return result[\"messages\"][-1].content"
   ]
  },
  {
   "cell_type": "code",
   "execution_count": 81,
   "id": "de6d1383-5614-4eb1-80a4-f5f2c2dfe848",
   "metadata": {},
   "outputs": [
    {
     "name": "stdout",
     "output_type": "stream",
     "text": [
      "* Running on local URL:  http://127.0.0.1:7872\n",
      "\n",
      "To create a public link, set `share=True` in `launch()`.\n"
     ]
    },
    {
     "data": {
      "text/html": [
       "<div><iframe src=\"http://127.0.0.1:7872/\" width=\"100%\" height=\"500\" allow=\"autoplay; camera; microphone; clipboard-read; clipboard-write;\" frameborder=\"0\" allowfullscreen></iframe></div>"
      ],
      "text/plain": [
       "<IPython.core.display.HTML object>"
      ]
     },
     "metadata": {},
     "output_type": "display_data"
    },
    {
     "data": {
      "text/plain": []
     },
     "execution_count": 81,
     "metadata": {},
     "output_type": "execute_result"
    },
    {
     "name": "stderr",
     "output_type": "stream",
     "text": [
      "\u001b[32m2025-10-25 10:08:18.863\u001b[0m | \u001b[1mINFO    \u001b[0m | \u001b[36m__main__\u001b[0m:\u001b[36mchat\u001b[0m:\u001b[36m6\u001b[0m - \u001b[1m{'messages': [HumanMessage(content='hi', additional_kwargs={}, response_metadata={}, id='73444e3e-631e-445c-acfc-42f15d72ce4a'), AIMessage(content='Zombies are squishy', additional_kwargs={}, response_metadata={}, id='02915da4-578b-4447-88d6-5af08878d892')]}\u001b[0m\n"
     ]
    }
   ],
   "source": [
    "gr.ChatInterface(chat,type=\"messages\").launch()"
   ]
  },
  {
   "cell_type": "code",
   "execution_count": 1,
   "id": "29f8cf61-4c44-4b53-ad79-d877e8ea1a50",
   "metadata": {},
   "outputs": [
    {
     "ename": "NameError",
     "evalue": "name 'BaseModel' is not defined",
     "output_type": "error",
     "traceback": [
      "\u001b[31m---------------------------------------------------------------------------\u001b[39m",
      "\u001b[31mNameError\u001b[39m                                 Traceback (most recent call last)",
      "\u001b[36mCell\u001b[39m\u001b[36m \u001b[39m\u001b[32mIn[1]\u001b[39m\u001b[32m, line 2\u001b[39m\n\u001b[32m      1\u001b[39m \u001b[38;5;66;03m# Step-2: Define the State object\u001b[39;00m\n\u001b[32m----> \u001b[39m\u001b[32m2\u001b[39m \u001b[38;5;28;01mclass\u001b[39;00m\u001b[38;5;250m \u001b[39m\u001b[34;01mState\u001b[39;00m(\u001b[43mBaseModel\u001b[49m):\n\u001b[32m      3\u001b[39m     messages: Annotated[\u001b[38;5;28mlist\u001b[39m,add_messages]\n",
      "\u001b[31mNameError\u001b[39m: name 'BaseModel' is not defined"
     ]
    }
   ],
   "source": [
    "# Step-2: Define the State object\n",
    "class State(BaseModel):\n",
    "    messages: Annotated[list,add_messages]"
   ]
  },
  {
   "cell_type": "code",
   "execution_count": null,
   "id": "7ff0afe4-75cd-4f02-aa2e-a68f627e2028",
   "metadata": {},
   "outputs": [],
   "source": [
    "# Step 2: Start Graph Builder with the State\n",
    "graph_builder=StateGraph(state_schema=State)"
   ]
  },
  {
   "cell_type": "code",
   "execution_count": null,
   "id": "e2bca196-2de3-4d8f-bb47-2bb4f2cac880",
   "metadata": {},
   "outputs": [],
   "source": []
  },
  {
   "cell_type": "code",
   "execution_count": null,
   "id": "75a1f186-5908-4164-9be8-4e0f2e03263f",
   "metadata": {},
   "outputs": [],
   "source": [
    "# Step 3: Create Nodes\n",
    "llm =Chat"
   ]
  }
 ],
 "metadata": {
  "kernelspec": {
   "display_name": "Python 3 (ipykernel)",
   "language": "python",
   "name": "python3"
  },
  "language_info": {
   "codemirror_mode": {
    "name": "ipython",
    "version": 3
   },
   "file_extension": ".py",
   "mimetype": "text/x-python",
   "name": "python",
   "nbconvert_exporter": "python",
   "pygments_lexer": "ipython3",
   "version": "3.14.0"
  }
 },
 "nbformat": 4,
 "nbformat_minor": 5
}
