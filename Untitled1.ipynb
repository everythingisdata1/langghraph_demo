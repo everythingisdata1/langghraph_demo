{
 "cells": [
  {
   "cell_type": "markdown",
   "id": "d696ff4e-e538-4694-906f-64d343de869b",
   "metadata": {},
   "source": [
    "# Week  4 Day 4"
   ]
  },
  {
   "cell_type": "code",
   "execution_count": null,
   "id": "50baa964-80d6-4e0c-b21a-035c72bf257d",
   "metadata": {},
   "outputs": [],
   "source": [
    "import "
   ]
  }
 ],
 "metadata": {
  "kernelspec": {
   "display_name": "Python 3 (ipykernel)",
   "language": "python",
   "name": "python3"
  },
  "language_info": {
   "codemirror_mode": {
    "name": "ipython",
    "version": 3
   },
   "file_extension": ".py",
   "mimetype": "text/x-python",
   "name": "python",
   "nbconvert_exporter": "python",
   "pygments_lexer": "ipython3",
   "version": "3.14.0"
  }
 },
 "nbformat": 4,
 "nbformat_minor": 5
}
