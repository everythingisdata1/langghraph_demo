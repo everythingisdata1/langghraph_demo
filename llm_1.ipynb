{
 "cells": [
  {
   "cell_type": "code",
   "execution_count": 153,
   "id": "a02995cf-b219-453b-a16e-688507af5066",
   "metadata": {},
   "outputs": [],
   "source": [
    "from typing import Annotated\n",
    "import gradio as gr\n",
    "from dotenv import load_dotenv\n",
    "from langchain_openai import ChatOpenAI\n",
    "from langgraph.graph import StateGraph, START, END\n",
    "from langgraph.graph.message import add_messages\n",
    "from loguru import logger\n",
    "from pydantic import BaseModel"
   ]
  },
  {
   "cell_type": "code",
   "execution_count": 154,
   "id": "44faf0a8-c269-4f34-8294-1e15005bff79",
   "metadata": {},
   "outputs": [
    {
     "data": {
      "text/plain": [
       "True"
      ]
     },
     "execution_count": 154,
     "metadata": {},
     "output_type": "execute_result"
    }
   ],
   "source": [
    "load_dotenv(verbose=True)"
   ]
  },
  {
   "cell_type": "markdown",
   "id": "42775f0d-731c-4560-904a-dfd6e8600378",
   "metadata": {},
   "source": [
    "## Step-1: Define the State object"
   ]
  },
  {
   "cell_type": "code",
   "execution_count": 155,
   "id": "289dc1ec-a710-4c52-a763-6b4f2a821a29",
   "metadata": {},
   "outputs": [],
   "source": [
    "class State(BaseModel):\n",
    "    messages: Annotated[list, add_messages]"
   ]
  },
  {
   "cell_type": "markdown",
   "id": "1cad757f-5bec-44fd-afae-36e30f3ee7f7",
   "metadata": {},
   "source": [
    "## Step-2: Start Graph Builder with the State"
   ]
  },
  {
   "cell_type": "code",
   "execution_count": 156,
   "id": "ee6822db-6bd5-4859-a2da-bca51be30ebf",
   "metadata": {},
   "outputs": [],
   "source": [
    "graph_builder = StateGraph(State)\n",
    "llm = ChatOpenAI(model=\"gpt-4o-mini\")"
   ]
  },
  {
   "cell_type": "markdown",
   "id": "ef88992a-ccfe-4772-bd3e-1181ba9c5b33",
   "metadata": {},
   "source": [
    "## Step 3: Create Nodes"
   ]
  },
  {
   "cell_type": "code",
   "execution_count": 157,
   "id": "c4b23873-767c-49cd-9741-1bb3a006cd80",
   "metadata": {},
   "outputs": [],
   "source": [
    "def chatbot_node(old_state: State) -> State:\n",
    "    logger.info(old_state)\n",
    "    response = llm.invoke(old_state.messages)\n",
    "    new_state = State(messages=[response])\n",
    "    return new_state"
   ]
  },
  {
   "cell_type": "code",
   "execution_count": 158,
   "id": "ad2861a2-3011-4d32-b8b4-8bdf0746c447",
   "metadata": {},
   "outputs": [
    {
     "data": {
      "text/plain": [
       "<langgraph.graph.state.StateGraph at 0x2c4b4aa9910>"
      ]
     },
     "execution_count": 158,
     "metadata": {},
     "output_type": "execute_result"
    }
   ],
   "source": [
    "graph_builder.add_node(\"chatbot\", chatbot_node)"
   ]
  },
  {
   "cell_type": "markdown",
   "id": "d697d501-a114-4863-9689-d40721d8e2cb",
   "metadata": {},
   "source": [
    "## Step-4: Create Edge "
   ]
  },
  {
   "cell_type": "code",
   "execution_count": 159,
   "id": "6a1030cf-2a61-4f0e-97a0-1b292bb43c18",
   "metadata": {},
   "outputs": [
    {
     "data": {
      "text/plain": [
       "<langgraph.graph.state.StateGraph at 0x2c4b4aa9910>"
      ]
     },
     "execution_count": 159,
     "metadata": {},
     "output_type": "execute_result"
    }
   ],
   "source": [
    "graph_builder.add_edge(START, \"chatbot\")\n",
    "graph_builder.add_edge(\"chatbot\", END)"
   ]
  },
  {
   "cell_type": "markdown",
   "id": "c98b88fe-a8b4-4ea4-9413-438325a3c801",
   "metadata": {},
   "source": [
    "## Step-5: Compile the Graph"
   ]
  },
  {
   "cell_type": "code",
   "execution_count": 160,
   "id": "a8d4dfdd-72bc-491f-a639-1406954de659",
   "metadata": {},
   "outputs": [],
   "source": [
    "graph = graph_builder.compile()"
   ]
  },
  {
   "cell_type": "code",
   "execution_count": 161,
   "id": "d22713a1-3dd5-468e-96e8-70a97b72bca9",
   "metadata": {},
   "outputs": [
    {
     "data": {
      "image/png": "[encoded data removed]",
      "text/plain": [
       "<langgraph.graph.state.CompiledStateGraph object at 0x000002C4B4718910>"
      ]
     },
     "execution_count": 161,
     "metadata": {},
     "output_type": "execute_result"
    }
   ],
   "source": [
    "graph"
   ]
  },
  {
   "cell_type": "markdown",
   "id": "d396ef42-5bba-4265-b6d6-72cbadbd1228",
   "metadata": {},
   "source": [
    "# Let's do chat with Gradio"
   ]
  },
  {
   "cell_type": "code",
   "execution_count": 162,
   "id": "302bf92d-be16-468b-bcca-bab165cb1cae",
   "metadata": {},
   "outputs": [
    {
     "name": "stdout",
     "output_type": "stream",
     "text": [
      "* Running on local URL:  http://127.0.0.1:7871\n",
      "\n",
      "To create a public link, set `share=True` in `launch()`.\n"
     ]
    },
    {
     "data": {
      "text/html": [
       "<div><iframe src=\"http://127.0.0.1:7871/\" width=\"100%\" height=\"500\" allow=\"autoplay; camera; microphone; clipboard-read; clipboard-write;\" frameborder=\"0\" allowfullscreen></iframe></div>"
      ],
      "text/plain": [
       "<IPython.core.display.HTML object>"
      ]
     },
     "metadata": {},
     "output_type": "display_data"
    },
    {
     "data": {
      "text/plain": []
     },
     "execution_count": 162,
     "metadata": {},
     "output_type": "execute_result"
    },
    {
     "name": "stderr",
     "output_type": "stream",
     "text": [
      "\u001b[32m2025-10-25 12:00:40.829\u001b[0m | \u001b[1mINFO    \u001b[0m | \u001b[36m__main__\u001b[0m:\u001b[36mchatbot_node\u001b[0m:\u001b[36m2\u001b[0m - \u001b[1mmessages=[HumanMessage(content='sdfsf', additional_kwargs={}, response_metadata={}, id='fcd38f76-7b78-4705-9081-27a0c988c1e5')]\u001b[0m\n",
      "\u001b[32m2025-10-25 12:01:04.636\u001b[0m | \u001b[1mINFO    \u001b[0m | \u001b[36m__main__\u001b[0m:\u001b[36mchatbot_node\u001b[0m:\u001b[36m2\u001b[0m - \u001b[1mmessages=[HumanMessage(content='explain how to call spring boot ', additional_kwargs={}, response_metadata={}, id='5babfde6-e87c-498c-8a4e-106ced7b0ef2')]\u001b[0m\n"
     ]
    }
   ],
   "source": [
    "def chat(user_input: str, history):\n",
    "    initial_state = State(messages=[{\"role\": \"user\", \"content\": user_input}])\n",
    "    result = graph.invoke(initial_state)\n",
    "    return result['messages'][-1].content\n",
    "\n",
    "# ✅ Add .queue() before launching\n",
    "gr.ChatInterface(chat, type=\"messages\").queue().launch()"
   ]
  }
 ],
 "metadata": {
  "kernelspec": {
   "display_name": "Python 3 (ipykernel)",
   "language": "python",
   "name": "python3"
  },
  "language_info": {
   "codemirror_mode": {
    "name": "ipython",
    "version": 3
   },
   "file_extension": ".py",
   "mimetype": "text/x-python",
   "name": "python",
   "nbconvert_exporter": "python",
   "pygments_lexer": "ipython3",
   "version": "3.14.0"
  }
 },
 "nbformat": 4,
 "nbformat_minor": 5
}
