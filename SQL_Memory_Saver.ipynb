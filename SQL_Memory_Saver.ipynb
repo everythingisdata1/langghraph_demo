{
 "cells": [
  {
   "cell_type": "code",
   "execution_count": 3,
   "id": "14181c1c-39cb-438f-86c2-852f4d851b84",
   "metadata": {},
   "outputs": [],
   "source": [
    "import os\n",
    "import sqlite3\n",
    "from typing import TypedDict, Annotated\n",
    "\n",
    "import requests\n",
    "from dotenv import load_dotenv\n",
    "from langchain_community.utilities import GoogleSerperAPIWrapper\n",
    "from langchain_core.tools import Tool\n",
    "from langchain_openai import ChatOpenAI\n",
    "from langgraph.checkpoint.sqlite import SqliteSaver\n",
    "from langgraph.graph import StateGraph, START, END\n",
    "from langgraph.graph.message import add_messages\n",
    "from langgraph.prebuilt import ToolNode, tools_condition\n",
    "from loguru import logger\n",
    "import gradio as gr\n"
   ]
  },
  {
   "cell_type": "code",
   "execution_count": 4,
   "id": "f34e810a-5285-492e-8db9-b7aa4441d41a",
   "metadata": {},
   "outputs": [
    {
     "data": {
      "text/plain": [
       "True"
      ]
     },
     "execution_count": 4,
     "metadata": {},
     "output_type": "execute_result"
    }
   ],
   "source": [
    "\n",
    "load_dotenv(override=True)\n"
   ]
  },
  {
   "cell_type": "code",
   "execution_count": 5,
   "id": "d66343f6-5c63-40df-abdf-60b3403dd773",
   "metadata": {},
   "outputs": [
    {
     "name": "stderr",
     "output_type": "stream",
     "text": [
      "\u001b[32m2025-10-28 08:48:57.506\u001b[0m | \u001b[1mINFO    \u001b[0m | \u001b[36m__main__\u001b[0m:\u001b[36m<module>\u001b[0m:\u001b[36m1\u001b[0m - \u001b[1mStart LangGraph with SQL lite in-memory\u001b[0m\n",
      "\u001b[32m2025-10-28 08:48:59.314\u001b[0m | \u001b[1mINFO    \u001b[0m | \u001b[36m__main__\u001b[0m:\u001b[36m<module>\u001b[0m:\u001b[36m31\u001b[0m - \u001b[1mSqliteSaver added ....\u001b[0m\n",
      "\u001b[32m2025-10-28 08:48:59.322\u001b[0m | \u001b[1mINFO    \u001b[0m | \u001b[36m__main__\u001b[0m:\u001b[36m<module>\u001b[0m:\u001b[36m37\u001b[0m - \u001b[1mSTEP-1- State Builder\u001b[0m\n",
      "\u001b[32m2025-10-28 08:48:59.324\u001b[0m | \u001b[1mINFO    \u001b[0m | \u001b[36m__main__\u001b[0m:\u001b[36m<module>\u001b[0m:\u001b[36m45\u001b[0m - \u001b[1mSTEP-2: Graph Builder\u001b[0m\n",
      "\u001b[32m2025-10-28 08:48:59.326\u001b[0m | \u001b[1mINFO    \u001b[0m | \u001b[36m__main__\u001b[0m:\u001b[36m<module>\u001b[0m:\u001b[36m50\u001b[0m - \u001b[1mSTEP-3: Setup lllm and bind tools\u001b[0m\n",
      "\u001b[32m2025-10-28 08:49:01.080\u001b[0m | \u001b[1mINFO    \u001b[0m | \u001b[36m__main__\u001b[0m:\u001b[36m<module>\u001b[0m:\u001b[36m65\u001b[0m - \u001b[1mSTEP-4:  Add Edges\u001b[0m\n",
      "\u001b[32m2025-10-28 08:49:01.083\u001b[0m | \u001b[1mINFO    \u001b[0m | \u001b[36m__main__\u001b[0m:\u001b[36m<module>\u001b[0m:\u001b[36m73\u001b[0m - \u001b[1mSTEP-5: Compile Graph with SQL Memory Saver check point\u001b[0m\n"
     ]
    }
   ],
   "source": [
    "\n",
    "logger.info(\"Start LangGraph with SQL lite in-memory\")\n",
    "# Tool - Web\n",
    "\n",
    "serper = GoogleSerperAPIWrapper()\n",
    "serper.run(\"What is the capital of France?\")\n",
    "tool_search = Tool(\n",
    "    name=\"search\",\n",
    "    func=serper.run,\n",
    "    description=\"Useful for when you need more information from an online search\")\n",
    "# Tool 2 - push\n",
    "PUSHOVER_USER = os.getenv(\"PUSHOVER_USER\")\n",
    "PUSHOVER_TOKEN = os.getenv(\"PUSHOVER_TOKEN\")\n",
    "PUSHOVER_URL = os.getenv(\"PUSHOVER_URL\")\n",
    "\n",
    "\n",
    "def push(txt: str):\n",
    "    \"\"\" Send a push notification to the user \"\"\"\n",
    "    logger.info(txt)\n",
    "    requests.post(PUSHOVER_URL, data={\"token\": PUSHOVER_USER, \"user\": PUSHOVER_TOKEN, \"message\": txt})\n",
    "\n",
    "\n",
    "tool_push = Tool(\n",
    "    name=\"send_push_notification\",\n",
    "    description=\"Useful when you want to send push notification.\",\n",
    "    func=push\n",
    ")\n",
    "\n",
    "tools = [tool_search, tool_push]\n",
    "\n",
    "## SQL-Lite as memory Saver\n",
    "logger.info(f\"SqliteSaver added ....\")\n",
    "db_path = \"langgraph.db\"\n",
    "conn = sqlite3.connect(db_path, check_same_thread=False)\n",
    "sql_memory_saver = SqliteSaver(conn)\n",
    "\n",
    "## STEP1- State Builder\n",
    "logger.info(\"STEP-1- State Builder\")\n",
    "\n",
    "\n",
    "class State(TypedDict):\n",
    "    messages: Annotated[list, add_messages]\n",
    "\n",
    "\n",
    "##STEP2:\n",
    "logger.info(\"STEP-2: Graph Builder\")\n",
    "\n",
    "graph_builder = StateGraph(State)\n",
    "\n",
    "##STEP3: Setup lllm and bind tools\n",
    "logger.info(\"STEP-3: Setup lllm and bind tools\")\n",
    "\n",
    "llm = ChatOpenAI(model=\"gpt-4o-mini\")\n",
    "llm_with_tools = llm.bind_tools(tools)\n",
    "\n",
    "\n",
    "def chatbot(state: State):\n",
    "    logger.info(state[\"messages\"])\n",
    "    return {\"messages\": [llm_with_tools.invoke(state[\"messages\"])]}\n",
    "\n",
    "\n",
    "graph_builder.add_node(\"chatbot\", chatbot)\n",
    "graph_builder.add_node(\"tools\", ToolNode(tools=tools))\n",
    "\n",
    "##STEP4: Add Edges\n",
    "logger.info(\"STEP-4:  Add Edges\")\n",
    "\n",
    "graph_builder.add_edge(START, \"chatbot\")\n",
    "graph_builder.add_conditional_edges(\"chatbot\", tools_condition, \"tools\")\n",
    "graph_builder.add_edge(\"tools\", \"chatbot\")\n",
    "graph_builder.add_edge(\"chatbot\", END)\n",
    "\n",
    "## STEP5:\n",
    "logger.info(\"STEP-5: Compile Graph with SQL Memory Saver check point\")\n",
    "graph = graph_builder.compile(checkpointer=sql_memory_saver)"
   ]
  },
  {
   "cell_type": "code",
   "execution_count": 6,
   "id": "803c7474-7469-40c5-a576-5bec045db7b8",
   "metadata": {},
   "outputs": [
    {
     "data": {
      "image/png": "[encoded data removed]",
      "text/plain": [
       "<langgraph.graph.state.CompiledStateGraph object at 0x00000158E7FDF380>"
      ]
     },
     "execution_count": 6,
     "metadata": {},
     "output_type": "execute_result"
    }
   ],
   "source": [
    "graph"
   ]
  },
  {
   "cell_type": "code",
   "execution_count": 7,
   "id": "9a99d675-4c79-4442-abf0-8cc7ac14d998",
   "metadata": {},
   "outputs": [],
   "source": [
    "confg = {\"configurable\": {\"thread_id\": \"3\"}}\n",
    "\n",
    "\n",
    "def chat(user_input, history):\n",
    "    result = graph.invoke({\"messages\": [{\"role\": \"user\", \"content\": user_input}]}, config=confg)\n",
    "    return result[\"messages\"][-1].content"
   ]
  },
  {
   "cell_type": "code",
   "execution_count": 8,
   "id": "9c9e9342-29d8-49a6-a176-4101e22935ce",
   "metadata": {},
   "outputs": [
    {
     "name": "stdout",
     "output_type": "stream",
     "text": [
      "* Running on local URL:  http://127.0.0.1:7860\n",
      "\n",
      "To create a public link, set `share=True` in `launch()`.\n"
     ]
    },
    {
     "data": {
      "text/html": [
       "<div><iframe src=\"http://127.0.0.1:7860/\" width=\"100%\" height=\"500\" allow=\"autoplay; camera; microphone; clipboard-read; clipboard-write;\" frameborder=\"0\" allowfullscreen></iframe></div>"
      ],
      "text/plain": [
       "<IPython.core.display.HTML object>"
      ]
     },
     "metadata": {},
     "output_type": "display_data"
    },
    {
     "data": {
      "text/plain": []
     },
     "execution_count": 8,
     "metadata": {},
     "output_type": "execute_result"
    }
   ],
   "source": [
    "gr.ChatInterface(chat, type=\"messages\").launch()"
   ]
  },
  {
   "cell_type": "code",
   "execution_count": null,
   "id": "637c1cc3-414b-44a5-b08b-ee3625290cba",
   "metadata": {},
   "outputs": [],
   "source": []
  }
 ],
 "metadata": {
  "kernelspec": {
   "display_name": "Python 3 (ipykernel)",
   "language": "python",
   "name": "python3"
  },
  "language_info": {
   "codemirror_mode": {
    "name": "ipython",
    "version": 3
   },
   "file_extension": ".py",
   "mimetype": "text/x-python",
   "name": "python",
   "nbconvert_exporter": "python",
   "pygments_lexer": "ipython3",
   "version": "3.14.0"
  }
 },
 "nbformat": 4,
 "nbformat_minor": 5
}
