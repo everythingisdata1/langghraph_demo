{
 "cells": [
  {
   "cell_type": "code",
   "execution_count": 28,
   "id": "70fbcbaa-abce-4786-97d4-1fd6ec24f2f6",
   "metadata": {},
   "outputs": [],
   "source": [
    "from typing import Annotated\n",
    "from langgraph.graph import StateGraph, START,END\n",
    "from langgraph.graph.message import add_messages\n",
    "from dotenv import load_dotenv\n",
    "from IPython.display import Image, display\n",
    "import gradio as gr\n",
    "from langgraph.prebuilt import ToolNode, tools_condition\n",
    "import requests\n",
    "import os\n",
    "from langchain_openai import ChatOpenAI\n",
    "from typing import TypedDict\n",
    "from langchain_core.tools import Tool \n",
    "from loguru import logger"
   ]
  },
  {
   "cell_type": "code",
   "execution_count": 29,
   "id": "1c7adc81-6376-4561-83a1-a86f2abb018e",
   "metadata": {},
   "outputs": [
    {
     "data": {
      "text/plain": [
       "True"
      ]
     },
     "execution_count": 29,
     "metadata": {},
     "output_type": "execute_result"
    }
   ],
   "source": [
    "load_dotenv(override=True)"
   ]
  },
  {
   "cell_type": "code",
   "execution_count": 30,
   "id": "03a5957f-4c92-401a-824d-d9e098d651a8",
   "metadata": {},
   "outputs": [
    {
     "data": {
      "text/plain": [
       "'Paris is the capital and largest city of France, with an estimated city population of 2,048,472 in an area of 105.4 km2 (40.7 sq mi), and a metropolitan ... Paris is the capital and most populous city of France. Situated on the Seine River, in the north of the country, it is in the centre of the Île-de-France ... Paris is the capital of France, the largest country of Europe with 550 000 km2 (65 millions inhabitants). Paris has 2.234 million inhabitants end 2011. Paris, city and capital of France, located along the Seine River, in the north-central part of the country. Paris is one of the world\\'s most important and ... The capital of France has been Paris since its liberation in 1944. Paris is the city of romance par excellence, the fashion capital and the best example of French art de vivre. Exploring Paris is an essential rite of passage ... PARIS it is the capital and largest city of France. Located on the Seine in the country\\'s north, it is a major cultural and political centre of ... Paris is the capital city of France and a cultural and culinary hub. In 2024 it played host to its third Olympic Games. Paris, situated on the river Seine ... Paris, the capital of France, is often referred to as the \"City of Light\" and is renowned for its art, culture, and history. Paris Capital City Of France In 4K Ultra HD Video | Paris, France Capital And Largest City | Paris Is A Major European City And A Global ...'"
      ]
     },
     "execution_count": 30,
     "metadata": {},
     "output_type": "execute_result"
    }
   ],
   "source": [
    "from langchain_community.utilities import GoogleSerperAPIWrapper\n",
    "\n",
    "serper = GoogleSerperAPIWrapper()\n",
    "serper.run(\"What is the capital of France?\")"
   ]
  },
  {
   "cell_type": "markdown",
   "id": "eb1cad8a-0ff4-492b-a650-dc8d88d10962",
   "metadata": {},
   "source": [
    "## langchain wrapper classs convert funcations to tool"
   ]
  },
  {
   "cell_type": "code",
   "execution_count": 31,
   "id": "6ae899ff-d0e4-464a-a971-bcaba1616d50",
   "metadata": {},
   "outputs": [],
   "source": [
    "tool_search =Tool(\n",
    "        name=\"search\",\n",
    "        func=serper.run,\n",
    "        description=\"Useful for when you need more information from an online search\")"
   ]
  },
  {
   "cell_type": "code",
   "execution_count": 32,
   "id": "4afb6075-dcf3-4181-be61-f93ac9dfb3c9",
   "metadata": {},
   "outputs": [
    {
     "data": {
      "text/plain": [
       "Tool(name='search', description='Useful for when you need more information from an online search', func=<bound method GoogleSerperAPIWrapper.run of GoogleSerperAPIWrapper(k=10, gl='us', hl='en', type='search', result_key_for_type={'news': 'news', 'places': 'places', 'images': 'images', 'search': 'organic'}, tbs=None, serper_api_key='245a4482074325ef751a303882b0c461a3495ef6', aiosession=None)>)"
      ]
     },
     "execution_count": 32,
     "metadata": {},
     "output_type": "execute_result"
    }
   ],
   "source": [
    "tool_search"
   ]
  },
  {
   "cell_type": "code",
   "execution_count": 33,
   "id": "57a24353-0227-44ab-a296-41648f08617a",
   "metadata": {},
   "outputs": [
    {
     "data": {
      "text/plain": [
       "'Paris is the capital and largest city of France, with an estimated city population of 2,048,472 in an area of 105.4 km2 (40.7 sq mi), and a metropolitan ... Paris is the capital and most populous city of France. Situated on the Seine River, in the north of the country, it is in the centre of the Île-de-France ... Paris is the capital of France, the largest country of Europe with 550 000 km2 (65 millions inhabitants). Paris has 2.234 million inhabitants end 2011. Paris, city and capital of France, located along the Seine River, in the north-central part of the country. Paris is one of the world\\'s most important and ... The capital of France has been Paris since its liberation in 1944. Paris, the capital and largest city of France, is located in the northern part of the country on the banks of the Seine River. Paris is the city of romance par excellence, the fashion capital and the best example of French art de vivre. Exploring Paris is an essential rite of passage ... Paris, the capital of France, is often referred to as the \"City of Light\" and is renowned for its art, culture, and history. Paris is the capital city of France and a cultural and culinary hub. In 2024 it played host to its third Olympic Games. Paris, situated on the river Seine ... Paris Capital City Of France In 4K Ultra HD Video | Paris, France Capital And Largest City | Paris Is A Major European City And A Global ...'"
      ]
     },
     "execution_count": 33,
     "metadata": {},
     "output_type": "execute_result"
    }
   ],
   "source": [
    "tool_search.invoke(\"What is the captial of france\")"
   ]
  },
  {
   "cell_type": "markdown",
   "id": "f4d5589e-9e73-4f79-9da8-479ea2690e10",
   "metadata": {},
   "source": [
    "## And now lets write own a tool resources "
   ]
  },
  {
   "cell_type": "code",
   "execution_count": 34,
   "id": "10bd1750-48a3-4f99-8b82-fce6b88a6c2f",
   "metadata": {},
   "outputs": [],
   "source": [
    "PUSHOVER_USER=os.getenv(\"PUSHOVER_USER\")\n",
    "PUSHOVER_TOKEN=os.getenv(\"PUSHOVER_TOKEN\")\n",
    "PUSHOVER_URL=os.getenv(\"PUSHOVER_URL\")"
   ]
  },
  {
   "cell_type": "code",
   "execution_count": 35,
   "id": "cc5c1360-1295-44a1-9a9c-70a31e55f076",
   "metadata": {},
   "outputs": [
    {
     "data": {
      "text/plain": [
       "'umnmtj7piacqgcvawarue673dzan74'"
      ]
     },
     "execution_count": 35,
     "metadata": {},
     "output_type": "execute_result"
    }
   ],
   "source": [
    "PUSHOVER_TOKEN"
   ]
  },
  {
   "cell_type": "code",
   "execution_count": 36,
   "id": "a79fa6c7-14aa-433b-aa8b-6ff6488f2845",
   "metadata": {},
   "outputs": [],
   "source": [
    "def push(txt:str):\n",
    "    \"\"\" Send a push notification to the user \"\"\"\n",
    "    logger.info(txt)\n",
    "    requests.post(PUSHOVER_URL, data={\"token\":PUSHOVER_USER, \"user\":PUSHOVER_TOKEN, \"message\": txt})"
   ]
  },
  {
   "cell_type": "code",
   "execution_count": 37,
   "id": "b8ca6b5b-010e-408d-9c25-4b5f4b03fa52",
   "metadata": {},
   "outputs": [],
   "source": [
    "tool_push=Tool(\n",
    "    name=\"send_push_notification\",\n",
    "    description=\"Useful when you want to send push notification.\",\n",
    "    func=push\n",
    ")"
   ]
  },
  {
   "cell_type": "code",
   "execution_count": 38,
   "id": "0a3ff2cf-4fec-4179-9b23-dd8c6a6bcd3d",
   "metadata": {},
   "outputs": [
    {
     "data": {
      "text/plain": [
       "Tool(name='send_push_notification', description='Useful when you want to send push notification.', func=<function push at 0x0000017701AED850>)"
      ]
     },
     "execution_count": 38,
     "metadata": {},
     "output_type": "execute_result"
    }
   ],
   "source": [
    "tool_push"
   ]
  },
  {
   "cell_type": "code",
   "execution_count": 39,
   "id": "c0c38f54-db4a-4b13-a9e6-fb471161debb",
   "metadata": {},
   "outputs": [
    {
     "name": "stderr",
     "output_type": "stream",
     "text": [
      "\u001b[32m2025-10-26 09:45:10.351\u001b[0m | \u001b[1mINFO    \u001b[0m | \u001b[36m__main__\u001b[0m:\u001b[36mpush\u001b[0m:\u001b[36m3\u001b[0m - \u001b[1mHello, me dfs\u001b[0m\n"
     ]
    }
   ],
   "source": [
    "tool_push.invoke(\"Hello, me dfs\")"
   ]
  },
  {
   "cell_type": "code",
   "execution_count": 40,
   "id": "c9775be3-0552-487a-a073-2fda8c44ae6f",
   "metadata": {},
   "outputs": [],
   "source": [
    "tools=[tool_search,tool_push]"
   ]
  },
  {
   "cell_type": "markdown",
   "id": "0fff14e5-4b97-4381-8a7d-6cffbcf873ec",
   "metadata": {},
   "source": [
    "## Back to LangGraph "
   ]
  },
  {
   "cell_type": "markdown",
   "id": "8ab19c54-a053-4e0b-af07-63c77d7ff2ef",
   "metadata": {},
   "source": [
    "### One small change - using TypedDict instead of BaseModel for the state objec\n",
    "### When we make tools, we always need to make 2 changes to the code.\n",
    "\n",
    "    1- Changes to provide the tools to OpenAI in JSON when we make the call. \n",
    "    2- change to handle the results back. Look for the model staying that the finish_reason \"tool_calls\" and then retrieve the call, run the function, and provide the results. "
   ]
  },
  {
   "cell_type": "code",
   "execution_count": 61,
   "id": "9aae7d49-4d41-494f-8019-a65efb251c2c",
   "metadata": {},
   "outputs": [],
   "source": [
    "# Step1- Define the state object \n",
    "class State(TypedDict):\n",
    "    messages: Annotated[list,add_messages]"
   ]
  },
  {
   "cell_type": "code",
   "execution_count": 62,
   "id": "827407b4-1186-4179-97c5-ab2d9d6e8422",
   "metadata": {},
   "outputs": [],
   "source": [
    "# step2: the graph builder with state class\n",
    "graph_builder=StateGraph(State)"
   ]
  },
  {
   "cell_type": "code",
   "execution_count": 63,
   "id": "09e6dc5a-1acd-4d40-913d-f69633d893ed",
   "metadata": {},
   "outputs": [],
   "source": [
    "# Step3: "
   ]
  },
  {
   "cell_type": "code",
   "execution_count": 64,
   "id": "88696c5a-2a82-419a-ab3a-687194b99682",
   "metadata": {},
   "outputs": [],
   "source": [
    "llm=ChatOpenAI(model=\"gpt-4o-mini\")\n",
    "llm_with_tools=llm.bind_tools(tools)"
   ]
  },
  {
   "cell_type": "code",
   "execution_count": 65,
   "id": "25744718-78c1-4db8-9c41-928b7281b97c",
   "metadata": {},
   "outputs": [],
   "source": [
    "## Step3: create nodes"
   ]
  },
  {
   "cell_type": "code",
   "execution_count": 66,
   "id": "1865b864-3c87-4ea0-b38b-886cc7935c28",
   "metadata": {},
   "outputs": [],
   "source": [
    "def chatbot(state: State):\n",
    "    return {\"messages\": [llm_with_tools.invoke(state[\"messages\"])]}"
   ]
  },
  {
   "cell_type": "code",
   "execution_count": null,
   "id": "a1db70a9-fa3c-4967-bfb1-4737eaa5ee71",
   "metadata": {},
   "outputs": [],
   "source": []
  },
  {
   "cell_type": "code",
   "execution_count": 67,
   "id": "3892f19d-6c9e-41d3-8248-7da9f9952970",
   "metadata": {},
   "outputs": [
    {
     "data": {
      "text/plain": [
       "<langgraph.graph.state.StateGraph at 0x24733023890>"
      ]
     },
     "execution_count": 67,
     "metadata": {},
     "output_type": "execute_result"
    }
   ],
   "source": [
    "graph_builder.add_node(\"chatbot\",chatbot)\n",
    "graph_builder.add_node(\"tools\",ToolNode(tools=tools))"
   ]
  },
  {
   "cell_type": "code",
   "execution_count": 68,
   "id": "627b0165-7366-4b95-adbf-349da27baaba",
   "metadata": {},
   "outputs": [
    {
     "data": {
      "text/plain": [
       "<langgraph.graph.state.StateGraph at 0x24733023890>"
      ]
     },
     "execution_count": 68,
     "metadata": {},
     "output_type": "execute_result"
    }
   ],
   "source": [
    "## setp 4: create graph edge\n",
    "graph_builder.add_conditional_edges(\"chatbot\", tools_condition,\"tools\")\n",
    "graph_builder.add_edge(\"tools\",\"chatbot\")\n",
    "graph_builder.add_edge(START,\"chatbot\")\n",
    "# graph_builder.add_edge(\"chatbot\",END)"
   ]
  },
  {
   "cell_type": "code",
   "execution_count": 69,
   "id": "46188b5b-f3ce-49a6-aa13-78ff15f353a0",
   "metadata": {},
   "outputs": [],
   "source": [
    "graph=graph_builder.compile()"
   ]
  },
  {
   "cell_type": "code",
   "execution_count": 70,
   "id": "92ee9260-7f02-4ca4-9593-ed98b5c98246",
   "metadata": {},
   "outputs": [
    {
     "data": {
      "image/png": "[encoded data removed]",
      "text/plain": [
       "<langgraph.graph.state.CompiledStateGraph object at 0x0000024732952C10>"
      ]
     },
     "execution_count": 70,
     "metadata": {},
     "output_type": "execute_result"
    }
   ],
   "source": [
    "graph"
   ]
  },
  {
   "cell_type": "code",
   "execution_count": 71,
   "id": "98358350-3b23-4ce4-9de9-5f5c2e45a4dd",
   "metadata": {},
   "outputs": [],
   "source": [
    "def chat(user_input,history):\n",
    "    result=graph.invoke({\"messages\":[{\"role\":\"user\",\"content\":user_input}]})\n",
    "    return result[\"messages\"][-1].content"
   ]
  },
  {
   "cell_type": "code",
   "execution_count": 72,
   "id": "097124e2-592e-4d7c-a23d-f88b8e42336a",
   "metadata": {},
   "outputs": [
    {
     "name": "stdout",
     "output_type": "stream",
     "text": [
      "* Running on local URL:  http://127.0.0.1:7864\n",
      "\n",
      "To create a public link, set `share=True` in `launch()`.\n"
     ]
    },
    {
     "data": {
      "text/html": [
       "<div><iframe src=\"http://127.0.0.1:7864/\" width=\"100%\" height=\"500\" allow=\"autoplay; camera; microphone; clipboard-read; clipboard-write;\" frameborder=\"0\" allowfullscreen></iframe></div>"
      ],
      "text/plain": [
       "<IPython.core.display.HTML object>"
      ]
     },
     "metadata": {},
     "output_type": "display_data"
    },
    {
     "data": {
      "text/plain": []
     },
     "execution_count": 72,
     "metadata": {},
     "output_type": "execute_result"
    }
   ],
   "source": [
    "gr.ChatInterface(chat,type=\"messages\").launch()"
   ]
  },
  {
   "cell_type": "markdown",
   "id": "5c1fce9e-fd15-4e0e-b631-e342c547370c",
   "metadata": {},
   "source": [
    "## Memory"
   ]
  },
  {
   "cell_type": "code",
   "execution_count": 41,
   "id": "2a2238f3-a9b1-47eb-b14d-ba8d8e826e11",
   "metadata": {},
   "outputs": [],
   "source": [
    "from langgraph.checkpoint.memory import MemorySaver\n",
    "memory = MemorySaver()"
   ]
  },
  {
   "cell_type": "code",
   "execution_count": 42,
   "id": "d31fc0be-7128-4b55-bf41-6e5b48997d95",
   "metadata": {},
   "outputs": [],
   "source": [
    "#Step1: Create State\n",
    "class State(TypedDict):\n",
    "    messages: Annotated[list,add_messages]\n",
    "\n",
    "#Step2: Build Graph\n",
    "llm=ChatOpenAI(model=\"gpt-4o-mini\")\n",
    "llm_with_tools=llm.bind_tools(tools)\n",
    "\n",
    "graph_builder=StateGraph(State)\n",
    "\n",
    "#step3 Create node \n",
    "def chatbot(state:State):\n",
    "    logger.info(state)\n",
    "    return {\"messages\":[llm_with_tools.invoke(state[\"messages\"])]}\n",
    "\n",
    "graph_builder.add_node(\"chatbot\",chatbot)\n",
    "graph_builder.add_node(\"tools\",ToolNode(tools=tools))\n",
    "\n",
    "#Step4: \n",
    "graph_builder.add_conditional_edges(\"chatbot\",tools_condition,\"tools\")\n",
    "graph_builder.add_edge(\"tools\", \"chatbot\")\n",
    "graph_builder.add_edge(START, \"chatbot\")\n",
    "graph_builder.add_edge(\"chatbot\",END)\n",
    "\n",
    "#STEP 5: Graph compile\n",
    "\n",
    "graph=graph_builder.compile(checkpointer=memory)\n"
   ]
  },
  {
   "cell_type": "code",
   "execution_count": 43,
   "id": "53462610-c23a-4e57-8de9-66da3bdd051a",
   "metadata": {},
   "outputs": [
    {
     "data": {
      "image/png": "[encoded data removed]",
      "text/plain": [
       "<langgraph.graph.state.CompiledStateGraph object at 0x0000017703352AD0>"
      ]
     },
     "execution_count": 43,
     "metadata": {},
     "output_type": "execute_result"
    }
   ],
   "source": [
    "graph"
   ]
  },
  {
   "cell_type": "code",
   "execution_count": 44,
   "id": "8d4c54e6-a5a5-4de8-9cd3-adab2a3341e2",
   "metadata": {},
   "outputs": [],
   "source": [
    "config={\"configurable\":{\"thread_id\":\"1\"}}"
   ]
  },
  {
   "cell_type": "code",
   "execution_count": 45,
   "id": "770f02f5-587c-46e0-b900-ab3d91b2387e",
   "metadata": {},
   "outputs": [],
   "source": [
    "def chat(user_input:str,history):\n",
    "    result=graph.invoke({\"messages\":[{\"role\":\"user\",\"content\":user_input}]}, config=config)\n",
    "    return result[\"messages\"][-1].content"
   ]
  },
  {
   "cell_type": "code",
   "execution_count": 46,
   "id": "e53c7017-d607-4b57-ac2f-7c7962ab1f62",
   "metadata": {
    "scrolled": true
   },
   "outputs": [
    {
     "name": "stdout",
     "output_type": "stream",
     "text": [
      "* Running on local URL:  http://127.0.0.1:7861\n",
      "\n",
      "To create a public link, set `share=True` in `launch()`.\n"
     ]
    },
    {
     "data": {
      "text/html": [
       "<div><iframe src=\"http://127.0.0.1:7861/\" width=\"100%\" height=\"500\" allow=\"autoplay; camera; microphone; clipboard-read; clipboard-write;\" frameborder=\"0\" allowfullscreen></iframe></div>"
      ],
      "text/plain": [
       "<IPython.core.display.HTML object>"
      ]
     },
     "metadata": {},
     "output_type": "display_data"
    },
    {
     "data": {
      "text/plain": []
     },
     "execution_count": 46,
     "metadata": {},
     "output_type": "execute_result"
    }
   ],
   "source": [
    "gr.ChatInterface(chat, type=\"messages\").launch()"
   ]
  },
  {
   "cell_type": "code",
   "execution_count": 47,
   "id": "a2681c02-058c-4a66-8688-c82b662074cd",
   "metadata": {},
   "outputs": [
    {
     "data": {
      "text/plain": [
       "StateSnapshot(values={}, next=(), config={'configurable': {'thread_id': '1'}}, metadata=None, created_at=None, parent_config=None, tasks=(), interrupts=())"
      ]
     },
     "execution_count": 47,
     "metadata": {},
     "output_type": "execute_result"
    },
    {
     "name": "stderr",
     "output_type": "stream",
     "text": [
      "\u001b[32m2025-10-26 09:45:36.953\u001b[0m | \u001b[1mINFO    \u001b[0m | \u001b[36m__main__\u001b[0m:\u001b[36mchatbot\u001b[0m:\u001b[36m13\u001b[0m - \u001b[1m{'messages': [HumanMessage(content='hi there\\n', additional_kwargs={}, response_metadata={}, id='caa3c4b7-9482-48ba-8ef5-f79665da2fa5')]}\u001b[0m\n"
     ]
    }
   ],
   "source": [
    "graph.get_state(config)"
   ]
  },
  {
   "cell_type": "code",
   "execution_count": 27,
   "id": "5330ff97-ec1d-4c8a-bd5d-8da006281180",
   "metadata": {},
   "outputs": [
    {
     "data": {
      "text/plain": [
       "<generator object Pregel.get_state_history at 0x0000017701955FE0>"
      ]
     },
     "execution_count": 27,
     "metadata": {},
     "output_type": "execute_result"
    },
    {
     "name": "stderr",
     "output_type": "stream",
     "text": [
      "\u001b[32m2025-10-26 09:44:45.087\u001b[0m | \u001b[1mINFO    \u001b[0m | \u001b[36m__main__\u001b[0m:\u001b[36mchatbot\u001b[0m:\u001b[36m13\u001b[0m - \u001b[1m{'messages': [HumanMessage(content='Hi My name is bharat', additional_kwargs={}, response_metadata={}, id='f622d5ff-385f-459d-b0d8-a9e5cbc5d878'), AIMessage(content='Hello Bharat! How can I assist you today?', additional_kwargs={'refusal': None}, response_metadata={'token_usage': {'completion_tokens': 11, 'prompt_tokens': 92, 'total_tokens': 103, 'completion_tokens_details': {'accepted_prediction_tokens': 0, 'audio_tokens': 0, 'reasoning_tokens': 0, 'rejected_prediction_tokens': 0}, 'prompt_tokens_details': {'audio_tokens': 0, 'cached_tokens': 0}}, 'model_provider': 'openai', 'model_name': 'gpt-4o-mini-2024-07-18', 'system_fingerprint': 'fp_560af6e559', 'id': 'chatcmpl-CUmPbCHflzjzn0OuMYhk9daX8UEMP', 'service_tier': 'default', 'finish_reason': 'stop', 'logprobs': None}, id='lc_run--68f55a9a-fbd4-488b-b89d-6a7bdc65db80-0', usage_metadata={'input_tokens': 92, 'output_tokens': 11, 'total_tokens': 103, 'input_token_details': {'audio': 0, 'cache_read': 0}, 'output_token_details': {'audio': 0, 'reasoning': 0}}), HumanMessage(content='Tell mee what is the captiall of india', additional_kwargs={}, response_metadata={}, id='3a13b793-be59-4850-8c5e-24dbeeb424f2'), AIMessage(content='The capital of India is New Delhi.', additional_kwargs={'refusal': None}, response_metadata={'token_usage': {'completion_tokens': 9, 'prompt_tokens': 119, 'total_tokens': 128, 'completion_tokens_details': {'accepted_prediction_tokens': 0, 'audio_tokens': 0, 'reasoning_tokens': 0, 'rejected_prediction_tokens': 0}, 'prompt_tokens_details': {'audio_tokens': 0, 'cached_tokens': 0}}, 'model_provider': 'openai', 'model_name': 'gpt-4o-mini-2024-07-18', 'system_fingerprint': 'fp_51db84afab', 'id': 'chatcmpl-CUmQ5v7npEvKPqLMHpYU4kXVYBfgl', 'service_tier': 'default', 'finish_reason': 'stop', 'logprobs': None}, id='lc_run--409da141-4f7f-446b-87d1-3b1ef5caf470-0', usage_metadata={'input_tokens': 119, 'output_tokens': 9, 'total_tokens': 128, 'input_token_details': {'audio': 0, 'cache_read': 0}, 'output_token_details': {'audio': 0, 'reasoning': 0}}), HumanMessage(content='hi there ', additional_kwargs={}, response_metadata={}, id='6505d3a1-f379-4ba2-b8b2-b64d51b821bf')]}\u001b[0m\n"
     ]
    }
   ],
   "source": [
    "graph.get_state_history(config=config)"
   ]
  },
  {
   "cell_type": "code",
   "execution_count": null,
   "id": "482fa057-4294-4707-820a-1b1e46b5a7ed",
   "metadata": {},
   "outputs": [],
   "source": []
  }
 ],
 "metadata": {
  "kernelspec": {
   "display_name": "Python 3 (ipykernel)",
   "language": "python",
   "name": "python3"
  },
  "language_info": {
   "codemirror_mode": {
    "name": "ipython",
    "version": 3
   },
   "file_extension": ".py",
   "mimetype": "text/x-python",
   "name": "python",
   "nbconvert_exporter": "python",
   "pygments_lexer": "ipython3",
   "version": "3.14.0"
  }
 },
 "nbformat": 4,
 "nbformat_minor": 5
}
